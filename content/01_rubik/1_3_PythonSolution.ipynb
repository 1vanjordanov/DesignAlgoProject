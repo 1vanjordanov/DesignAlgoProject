{
 "cells": [
  {
   "cell_type": "markdown",
   "metadata": {},
   "source": [
    "# Споредба на алгоритми\n",
    "*** \n"
   ]
  },
  {
   "cell_type": "markdown",
   "metadata": {},
   "source": [
    "### Test : 1\n",
    "``` Python\n",
    "Start:  (11, 9, 10, 16, 17, 15, 7, 8, 6, 0, 1, 2, 20, 18, 19, 14, 12, 13, 4, 5, 3, 21, 22, 23)\n",
    "End:  (0, 1, 2, 3, 4, 5, 6, 7, 8, 9, 10, 11, 12, 13, 14, 15, 16, 17, 18, 19, 20, 21, 22, 23)\n",
    "\n",
    "```\n",
    "\n",
    "***Shortest Path Optimized***:\n",
    "\n",
    "\n",
    "``` Python\n",
    "Множество акции: ['Li', 'Ui', 'Fi', 'Fi']\n",
    "Должина на пат: 4\n",
    "Execution Time Of shortest_path_optmized() : 0.000434875488281 sec\n",
    "```\n",
    "\n",
    "***Shortest Path***:\n",
    "\n",
    "``` Python\n",
    "Множество акции: ['Li', 'Ui', 'F', 'F']\n",
    "Должина на пат: 4    \n",
    "Execution Time Of shortest_path(): 0.00262808799744 sec\n",
    "```"
   ]
  },
  {
   "cell_type": "markdown",
   "metadata": {},
   "source": [
    "***"
   ]
  },
  {
   "cell_type": "markdown",
   "metadata": {},
   "source": [
    "### Test : 2\n",
    "``` Python\n",
    "Start:  (6, 7, 8, 0, 1, 2, 9, 10, 11, 3, 4, 5, 12, 13, 14, 15, 16, 17, 18, 19, 20, 21, 22, 23)\n",
    "End:  (0, 1, 2, 3, 4, 5, 6, 7, 8, 9, 10, 11, 12, 13, 14, 15, 16, 17, 18, 19, 20, 21, 22, 23)\n",
    "```\n",
    "\n",
    "***Shortest Path Optimized***:\n",
    "\n",
    "``` Python\n",
    "Множество акции: ['Fi']\n",
    "Должина на пат: 1\n",
    "Execution Time Of shortest_path_optmized() : 6.50882720947e-05 sec\n",
    "```\n",
    "***Shortest Path***:\n",
    "\n",
    "``` Python \n",
    "Множество акции: ['Fi']\n",
    "Должина на пат: 1\n",
    "Execution Time Of shortest_path(): 2.90870666504e-05 sec\n",
    "```"
   ]
  },
  {
   "cell_type": "markdown",
   "metadata": {},
   "source": [
    "***"
   ]
  },
  {
   "cell_type": "markdown",
   "metadata": {},
   "source": [
    "### Test : 3\n",
    "``` Python\n",
    "Start:  (6, 7, 8, 20, 18, 19, 3, 4, 5, 16, 17, 15, 0, 1, 2, 14, 12, 13, 10, 11, 9, 21, 22, 23)\n",
    "End:  (0, 1, 2, 3, 4, 5, 6, 7, 8, 9, 10, 11, 12, 13, 14, 15, 16, 17, 18, 19, 20, 21, 22, 23)\n",
    "```\n",
    "\n",
    "***Shortest Path Optimized***:\n",
    "```Python\n",
    "Множество акции: ['F', 'F', 'Ui', 'L', 'Ui', 'F', 'Li', 'U', 'Li', 'Fi', 'Li', 'U', 'Li', 'Fi']\n",
    "Должина на пат: 14\n",
    "Execution Time Of shortest_path_optmized() : 0.125272989273 sec\n",
    "```\n",
    "***Shortest Path***:\n",
    "``` Python\n",
    "Множество акции: ['F', 'F', 'Ui', 'L', 'Ui', 'F', 'Li', 'U', 'Li', 'Fi', 'Li', 'U', 'Li', 'Fi']\n",
    "Должина на пат: 14\n",
    "Execution Time Of shortest_path(): 57.1884469986 sec\n",
    "```"
   ]
  },
  {
   "cell_type": "markdown",
   "metadata": {},
   "source": [
    "***"
   ]
  },
  {
   "cell_type": "markdown",
   "metadata": {},
   "source": [
    "### Test : 4\n",
    "``` Python\n",
    "Start:  (6, 7, 8, 0, 1, 2, 9, 10, 11, 3, 4, 5, 12, 13, 14, 15, 16, 17, 18, 19, 20, 21, 22, 23)\n",
    "End:  (10, 11, 9, 16, 17, 15, 7, 8, 6, 20, 18, 19, 3, 4, 5, 14, 12, 13, 2, 0, 1, 21, 22, 23)\n",
    "```\n",
    "\n",
    "***Shortest Path Optimized***:\n",
    "``` Python\n",
    "Множество акции: ['Fi', 'L', 'F', 'U', 'F', 'Ui', 'Li', 'Li', 'Fi']\n",
    "Должина на пат: 9\n",
    "Execution Time Of shortest_path_optmized() : 0.00584316253662 sec\n",
    "```\n",
    "***Shortest Path***:\n",
    "``` Python\n",
    "Множество акции: ['Fi', 'L', 'F', 'U', 'F', 'Ui', 'L', 'L', 'Fi']\n",
    "Должина на пат: 9\n",
    "Execution Time Of shortest_path(): 1.09099912643 sec\n",
    "```"
   ]
  },
  {
   "cell_type": "markdown",
   "metadata": {},
   "source": [
    "***"
   ]
  },
  {
   "cell_type": "markdown",
   "metadata": {},
   "source": [
    "### Test : 5\n",
    "``` Python\n",
    "Start:  (7, 8, 6, 20, 18, 19, 3, 4, 5, 16, 17, 15, 0, 1, 2, 14, 12, 13, 10, 11, 9, 21, 22, 23)\n",
    "End:  (0, 1, 2, 3, 4, 5, 6, 7, 8, 9, 10, 11, 12, 13, 14, 15, 16, 17, 18, 19, 20, 21, 22, 23)\n",
    "```\n",
    "\n",
    "***Shortest Path Optimized***:\n",
    "``` Python\n",
    "Множество акции: None\n",
    "Должина на пат: 0\n",
    "Execution Time Of shortest_path_optmized() : 125.200236797 sec\n",
    "```\n",
    "\n",
    "***Shortest Path***:\n",
    "``` Python\n",
    "Множество акции: None\n",
    "Должина на пат: 0\n",
    "Execution Time Of shortest_path(): 1 hr\n",
    "```    "
   ]
  }
 ],
 "metadata": {
  "kernelspec": {
   "display_name": "Python 3",
   "language": "python",
   "name": "python3"
  },
  "language_info": {
   "codemirror_mode": {
    "name": "ipython",
    "version": 3
   },
   "file_extension": ".py",
   "mimetype": "text/x-python",
   "name": "python",
   "nbconvert_exporter": "python",
   "pygments_lexer": "ipython3",
   "version": "3.6.12"
  },
  "latex_envs": {
   "LaTeX_envs_menu_present": true,
   "autoclose": false,
   "autocomplete": true,
   "bibliofile": "biblio.bib",
   "cite_by": "apalike",
   "current_citInitial": 1,
   "eqLabelWithNumbers": true,
   "eqNumInitial": 1,
   "hotkeys": {
    "equation": "Ctrl-E",
    "itemize": "Ctrl-I"
   },
   "labels_anchors": false,
   "latex_user_defs": false,
   "report_style_numbering": false,
   "user_envs_cfg": false
  },
  "varInspector": {
   "cols": {
    "lenName": 16,
    "lenType": 16,
    "lenVar": 40
   },
   "kernels_config": {
    "python": {
     "delete_cmd_postfix": "",
     "delete_cmd_prefix": "del ",
     "library": "var_list.py",
     "varRefreshCmd": "print(var_dic_list())"
    },
    "r": {
     "delete_cmd_postfix": ") ",
     "delete_cmd_prefix": "rm(",
     "library": "var_list.r",
     "varRefreshCmd": "cat(var_dic_list()) "
    }
   },
   "types_to_exclude": [
    "module",
    "function",
    "builtin_function_or_method",
    "instance",
    "_Feature"
   ],
   "window_display": false
  }
 },
 "nbformat": 4,
 "nbformat_minor": 4
}
