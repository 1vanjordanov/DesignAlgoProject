{
 "cells": [
  {
   "cell_type": "markdown",
   "metadata": {},
   "source": [
    "# Пијан коњ\n",
    "***\n"
   ]
  },
  {
   "cell_type": "markdown",
   "metadata": {},
   "source": [
    "За втор проблем се одлучив да решам задача каде ќе го применам **BFS** алгоритмот во шаховски проблем. За решавање го користам програмскиот јазик *Python*.\n",
    "\n",
    "### Опис на проблем\n",
    "Во оваа специјална верзија на шах, вметнуваме нови фигури со уникатни потези. Една од најмоќните фигури во оваа верзија е пијаниот коњ. \n",
    "<br>\n",
    "Пијаниот коњ може да се движи на шест различни позиции од моменталната позиции.<br>\n",
    "Позициите на коњот се следните:\n",
    "<br>\n",
    "- **GL** - GoreLevo\n",
    "- **GD** - GoreDesno\n",
    "- **L** - Levo\n",
    "- **D** - Desno\n",
    "- **DL** - DoluLevo\n",
    "- **DD** - DoluDesno\n",
    "\n",
    "<p align=\"center\">\n",
    "<img src=\"images\\k1.png\" style=\"width:35%;\" alt=\"Валидни потези\">\n",
    "<br>\n",
    "    <center><figcaption><b>Слика 1:</b> Дозволени акции на пијаниот коњ</figcaption></center>\n",
    "</p>\n",
    "<br>\n",
    "Шаховската табла е со големина $N \\times N$. Секоја ќелија од таблата е индексирана како $(i, j)$, каде $i$ е бројот на редици, а $j$ е бројот на колони и индексирањето почнува од $0$. Позицијата $(0,0)$ е горниот ќош лево, а пак $(N-1, N-1)$ е во долниот ќош десно.\n",
    "<br>\n",
    "\n",
    "Помогнете му на пијаниот коњ да стигне до посакуваната позиција, притоа бројот на акции да биде најмал што може."
   ]
  },
  {
   "cell_type": "markdown",
   "metadata": {},
   "source": [
    "# Влез и излез за проблем \n",
    "**Влез:** Во првата линија е дадена големината на таблата, односно $N$ (т.е. $N\\times N$). Во втората линија се дадени $x_1, y_1, x_2, y_2$, каде $(x_1,y_1)$ e <u>почетната</u> позиција на коњот, а пак $(x_2,y_2)$ е <u>крајната</u> позиција.\n",
    "<br>\n",
    "\n",
    "**Излез:** На стандарден излез треба да се испечати должината на патот помеѓу почетната и крајната позиција, доколку тој пат не постои, треба да се испечати -1.\n",
    "\n",
    "## Ограничувања:\n",
    "1. $5 \\leq N \\leq 200$\n",
    "2. $0 \\leq x_1,y_1,x_2,y_2 < N$\n",
    "3. почетната и крајната дестинација мора да се различни $(x_1,y_1)\\neq (x_2,y_2)$\n",
    "\n",
    "\n",
    "***Пример1***: \n",
    "\n",
    "\n",
    "<u><code>Input:</code></u>\n",
    "``` Python\n",
    "7\n",
    "6 6 0 1\n",
    "```\n",
    "<u><code>Output:</code></u>\n",
    "4\n",
    "<hr>\n",
    "\n",
    "***Пример2***: \n",
    "\n",
    "\n",
    "<u><code>Input:</code></u>\n",
    "``` Python\n",
    "7\n",
    "0 3 4 3\n",
    "```\n",
    "<u><code>Output:</code></u>\n",
    "2\n",
    "<hr>\n",
    "\n",
    "***Пример3***: \n",
    "\n",
    "\n",
    "<u><code>Input:</code></u>\n",
    "``` Python\n",
    "6\n",
    "5 1 0 5\n",
    "```\n",
    "<u><code>Output:</code></u>\n",
    "-1\n",
    "<hr>"
   ]
  },
  {
   "cell_type": "markdown",
   "metadata": {},
   "source": [
    "## Објаснување на тест-примери\n",
    "\n",
    "***Пример1:*** \n",
    "<br>\n",
    "\n",
    "<p align=\"center\">\n",
    "<img src=\"images\\k2.png\" style=\"width:30%;\" alt=\"Тест пример 1\">\n",
    "<br>\n",
    "    <center><figcaption><b>Слика 2:</b> Тест пример 1</figcaption></center>\n",
    "</p>\n",
    "<br>\n",
    "Според сликата се гледа дека должината на патот ќе биде 4, а извршените акции на пијаниот коњ се GL GL GL и L во тој редослед.<hr>\n",
    "\n",
    "***Пример2:*** \n",
    "<br>\n",
    "\n",
    "<p align=\"center\">\n",
    "<img src=\"images\\k3.png\" style=\"width:30%;\" alt=\"Тест пример 2\">\n",
    "<br>\n",
    "    <center><figcaption><b>Слика 3:</b> Тест пример 2</figcaption></center>\n",
    "</p>\n",
    "<br>\n",
    "Коњот почнува од $(0,3)$ и до $(4,3)$ може да стигне на два начина, или користејќи DL па DD или пак користејќи прво DD па потоа DL, должината на овие два начина е еднаква, па затоа небитно е дали ќе се оди преку првиот или преку вториот пат, одговорот ќе е секогаш 2.\n",
    "<hr>\n",
    "\n",
    "***Пример3:*** \n",
    "<br>\n",
    "\n",
    "<p align=\"center\">\n",
    "<img src=\"images\\k4.png\" style=\"width:30%;\" alt=\"Тест пример 3\">\n",
    "<br>\n",
    "    <center><figcaption><b>Слика 4:</b> Тест пример 3</figcaption></center>\n",
    "</p>\n",
    "<br>\n",
    "Излезот е -1 бидејќи е невозможно да се стигне од $(5,1)$ до $(0,5)$"
   ]
  }
 ],
 "metadata": {
  "kernelspec": {
   "display_name": "Python 3",
   "language": "python",
   "name": "python3"
  },
  "language_info": {
   "codemirror_mode": {
    "name": "ipython",
    "version": 3
   },
   "file_extension": ".py",
   "mimetype": "text/x-python",
   "name": "python",
   "nbconvert_exporter": "python",
   "pygments_lexer": "ipython3",
   "version": "3.7.7"
  },
  "latex_envs": {
   "LaTeX_envs_menu_present": true,
   "autoclose": false,
   "autocomplete": true,
   "bibliofile": "biblio.bib",
   "cite_by": "apalike",
   "current_citInitial": 1,
   "eqLabelWithNumbers": true,
   "eqNumInitial": 1,
   "hotkeys": {
    "equation": "Ctrl-E",
    "itemize": "Ctrl-I"
   },
   "labels_anchors": false,
   "latex_user_defs": false,
   "report_style_numbering": false,
   "user_envs_cfg": false
  },
  "varInspector": {
   "cols": {
    "lenName": 16,
    "lenType": 16,
    "lenVar": 40
   },
   "kernels_config": {
    "python": {
     "delete_cmd_postfix": "",
     "delete_cmd_prefix": "del ",
     "library": "var_list.py",
     "varRefreshCmd": "print(var_dic_list())"
    },
    "r": {
     "delete_cmd_postfix": ") ",
     "delete_cmd_prefix": "rm(",
     "library": "var_list.r",
     "varRefreshCmd": "cat(var_dic_list()) "
    }
   },
   "types_to_exclude": [
    "module",
    "function",
    "builtin_function_or_method",
    "instance",
    "_Feature"
   ],
   "window_display": false
  }
 },
 "nbformat": 4,
 "nbformat_minor": 4
}
