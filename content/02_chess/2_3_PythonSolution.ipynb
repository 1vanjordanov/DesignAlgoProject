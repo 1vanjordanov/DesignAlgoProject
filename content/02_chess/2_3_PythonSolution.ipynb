{
 "cells": [
  {
   "cell_type": "markdown",
   "metadata": {},
   "source": [
    "# Тест-примери\n",
    "***"
   ]
  },
  {
   "cell_type": "markdown",
   "metadata": {},
   "source": [
    "### Test : 1\n",
    "``` Python\n",
    "10\n",
    "0 0 0 8\n",
    "\n",
    "```\n",
    "\n",
    "***bfs***:\n",
    "\n",
    "\n",
    "``` Python\n",
    "Множество акции: ['D', 'D', 'D', 'D']\n",
    "Должина на пат: 4\n",
    "Execution Time: 11.8 sec\n",
    "```"
   ]
  },
  {
   "cell_type": "markdown",
   "metadata": {},
   "source": [
    "***"
   ]
  },
  {
   "cell_type": "markdown",
   "metadata": {},
   "source": [
    "### Test : 2\n",
    "``` Python\n",
    "10\n",
    "2 9 0 0\n",
    "\n",
    "```\n",
    "\n",
    "***bfs***:\n",
    "\n",
    "\n",
    "``` Python\n",
    "Множество акции: ['GL', 'L', 'L', 'L', 'L']\n",
    "Должина на пат: 5\n",
    "Execution Time: 4.98 sec\n",
    "```"
   ]
  },
  {
   "cell_type": "markdown",
   "metadata": {},
   "source": [
    "***"
   ]
  },
  {
   "cell_type": "markdown",
   "metadata": {},
   "source": [
    "### Test : 3\n",
    "``` Python\n",
    "23\n",
    "3 3 21 18\n",
    "\n",
    "```\n",
    "\n",
    "***bfs***:\n",
    "\n",
    "\n",
    "``` Python\n",
    "Множество акции: ['D', 'D', 'D', 'DD', 'DD', 'DD', \n",
    "                 'DD', 'DD', 'DD', 'DD', 'DD', 'DD']\n",
    "Должина на пат: 12\n",
    "Execution Time: 9.34 sec\n",
    "```"
   ]
  },
  {
   "cell_type": "markdown",
   "metadata": {},
   "source": [
    "***"
   ]
  },
  {
   "cell_type": "markdown",
   "metadata": {},
   "source": [
    "### Test : 4\n",
    "``` Python\n",
    "8\n",
    "7 0 0 7\n",
    "\n",
    "```\n",
    "\n",
    "***bfs***:\n",
    "\n",
    "\n",
    "``` Python\n",
    "Множество акции: []\n",
    "Должина на пат: -1\n",
    "Execution Time: 7.37 sec\n",
    "```"
   ]
  },
  {
   "cell_type": "markdown",
   "metadata": {},
   "source": [
    "***"
   ]
  },
  {
   "cell_type": "markdown",
   "metadata": {},
   "source": [
    "### Test : 5\n",
    "``` Python\n",
    "6\n",
    "2 1 0 2\n",
    "\n",
    "```\n",
    "\n",
    "***bfs output***:\n",
    "\n",
    "\n",
    "``` Python\n",
    "Множество акции: ['GD']\n",
    "Должина на пат: 1\n",
    "Execution Time: 2.34 sec\n",
    "```"
   ]
  }
 ],
 "metadata": {
  "kernelspec": {
   "display_name": "Python 3",
   "language": "python",
   "name": "python3"
  },
  "language_info": {
   "codemirror_mode": {
    "name": "ipython",
    "version": 3
   },
   "file_extension": ".py",
   "mimetype": "text/x-python",
   "name": "python",
   "nbconvert_exporter": "python",
   "pygments_lexer": "ipython3",
   "version": "3.7.7"
  },
  "latex_envs": {
   "LaTeX_envs_menu_present": true,
   "autoclose": false,
   "autocomplete": true,
   "bibliofile": "biblio.bib",
   "cite_by": "apalike",
   "current_citInitial": 1,
   "eqLabelWithNumbers": true,
   "eqNumInitial": 1,
   "hotkeys": {
    "equation": "Ctrl-E",
    "itemize": "Ctrl-I"
   },
   "labels_anchors": false,
   "latex_user_defs": false,
   "report_style_numbering": false,
   "user_envs_cfg": false
  },
  "varInspector": {
   "cols": {
    "lenName": 16,
    "lenType": 16,
    "lenVar": 40
   },
   "kernels_config": {
    "python": {
     "delete_cmd_postfix": "",
     "delete_cmd_prefix": "del ",
     "library": "var_list.py",
     "varRefreshCmd": "print(var_dic_list())"
    },
    "r": {
     "delete_cmd_postfix": ") ",
     "delete_cmd_prefix": "rm(",
     "library": "var_list.r",
     "varRefreshCmd": "cat(var_dic_list()) "
    }
   },
   "types_to_exclude": [
    "module",
    "function",
    "builtin_function_or_method",
    "instance",
    "_Feature"
   ],
   "window_display": false
  }
 },
 "nbformat": 4,
 "nbformat_minor": 4
}
