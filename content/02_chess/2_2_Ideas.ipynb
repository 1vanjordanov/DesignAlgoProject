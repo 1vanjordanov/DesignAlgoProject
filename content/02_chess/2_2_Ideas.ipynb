{
 "cells": [
  {
   "cell_type": "markdown",
   "metadata": {},
   "source": [
    "# Идеја за решавање\n",
    "***"
   ]
  },
  {
   "cell_type": "markdown",
   "metadata": {},
   "source": [
    "Како што вели текстот, пијаниот коњ има 6 различни акции. Идејата е да се изгради граф, каде темиња ќе бидат позициите на коњот, а ребра ќе бидат валидните акции, но нема да ги чувам сите позиции на шаховската табла, туку графот ќе го градам имплицитно, односно ќе ги чувам само полињата на коњот кои му се достапни преку неговите акции во моментална состојба, така, наместо да чувам $N^2$ позиции, во најлош случај ќе чувам 6 позиции.<br>\n",
    "Валидните акции на пијаниот коњ се\n",
    "- **GL** - GoreLevo\n",
    "- **GD** - GoreDesno\n",
    "- **L** - Levo\n",
    "- **D** - Desno\n",
    "- **DL** - DoluLevo\n",
    "- **DD** - DoluDesno\n",
    "\n",
    "Според слика1 тие заменети во координатен систем би изгледале:\n",
    "- $(-2,-1)$ - GoreLevo\n",
    "- $(-2,+1)$ - GoreDesno\n",
    "- $(0,-2)$ - Levo\n",
    "- $(0, +2)$ - Desno\n",
    "- $(+2,-1)$ - DoluLevo\n",
    "- $(+2,+1)$ - DoluDesno\n",
    "\n",
    "Тоа значи дека од одредена состојба на пијаниот коњ, $(x,y)$, тој може да се движи на следниот начин:\n",
    "- $(x - 2, y - 1)$ \n",
    "- $(x - 2, y + 1)$\n",
    "- $(x, y - 2)$ \n",
    "- $(x, y + 2)$\n",
    "- $(x + 2, y - 1)$ \n",
    "- $(x + 2, y + 1)$\n",
    "\n",
    "Дополнително треба да се запазат почетните ограничувања дадени во текстот на задачата, со тоа што $x$ и $y$ не смеат да излегуваат надвор од шаховската табла, па пред да се изврши некоја од 6-те акции на коњот, мора да се провери дали тој потег е валиден или не. <br>\n",
    "Ова може многу лесно да се реализира со функцијата *isValid(x,y,n)*."
   ]
  },
  {
   "cell_type": "code",
   "execution_count": 18,
   "metadata": {
    "ExecuteTime": {
     "end_time": "2020-10-02T20:30:18.420798Z",
     "start_time": "2020-10-02T20:30:18.414816Z"
    },
    "code_folding": []
   },
   "outputs": [],
   "source": [
    "def isValid(x,y,n):\n",
    "    if 0 <= x < n and 0 <= y < n:\n",
    "        return True\n",
    "    return False"
   ]
  },
  {
   "cell_type": "markdown",
   "metadata": {},
   "source": [
    "Откако ќе се запазат сите ограничувања, може да го применам *BFS* алгоритмот.\n",
    "\n",
    "#### Алгоритам\n",
    "Се креира редица која на почеток ќе ја има почетната состојба на пијаниот коњ. Дополнително се креира листа на посетени позиции. За почетната позиција се проверуваат сите 6акции, и за секоја се проверува дали е валидна или не, доколку е валидна се внесува во редицата и почетната состојба се внесува во листата на посетени позиции. Ова се повторува сѐ додека не се стигне до крајната позиција, штом се стигне се печати должината на патот. Доколку редицата е празна, а листата на посетени позиции е 0, до крајната позиција не може да се стигне, па затоа се печати -1.\n"
   ]
  },
  {
   "cell_type": "code",
   "execution_count": null,
   "metadata": {
    "ExecuteTime": {
     "end_time": "2020-10-02T20:33:32.527160Z",
     "start_time": "2020-10-02T20:33:29.119315Z"
    },
    "scrolled": true
   },
   "outputs": [],
   "source": [
    "def bfs(x1,y1,x2,y2,n):\n",
    "    visited = [['0' for j in range(n)] for i in range(n)]\n",
    "    q = [(x1,y1,0,'ST')]\n",
    "    while len(q)!=0:\n",
    "        xi,yj,c,p = q.pop()\n",
    "        if isValid(xi,yj,n):\n",
    "            if visited[xi][yj] == '0':\n",
    "                visited[xi][yj] = p\n",
    "                if xi==x2 and yj==y2:\n",
    "                    print(c)\n",
    "                    break\n",
    "                q.insert(0,(xi-2,yj-1,c+1,'GL'))\n",
    "                q.insert(0,(xi-2,yj+1,c+1,'GD'))\n",
    "                q.insert(0,(xi,yj+2,c+1,'D'))      # bfs to find dest point\n",
    "                q.insert(0,(xi+2,yj+1,c+1,'DD'))\n",
    "                q.insert(0,(xi+2,yj-1,c+1,'DL'))\n",
    "                q.insert(0,(xi,yj-2,c+1,'L'))\n",
    "            else:\n",
    "                continue\n",
    "        else:\n",
    "            continue\n",
    "    if len(q)==0 and visited[ei][ej] == '0':     # dest point cant be reached\n",
    "        print('-1')\n",
    "            \n",
    "n = int(input())\n",
    "x1,y1,x2,y2 = map(int,input().split())\n",
    "#q = [(x1,y1,0,'ST')]\n",
    "bfs(x1,y1,x2,y2,n)"
   ]
  },
  {
   "cell_type": "markdown",
   "metadata": {},
   "source": [
    "Комплексноста на *BFS* алгоритамот зависи од бројот на темиња (*V*) и од бројот на ребра (*E*) и се пресметува како \n",
    "> $О(V+E)$\n",
    "\n",
    "Во најлош случај *BFS* ќе треба да ги измине сите темиња, односно ќе треба да ја измине цела табла која е со големина $N x N$, а бројот на ребра во најлош случај е $\\frac{6N^2}{2}$ па оттука следува дека комплексноста на овој алгоритам е\n",
    "> $O(N^2 + 3\\cdot N^2) = O(N^2)$"
   ]
  }
 ],
 "metadata": {
  "kernelspec": {
   "display_name": "Python 3",
   "language": "python",
   "name": "python3"
  },
  "language_info": {
   "codemirror_mode": {
    "name": "ipython",
    "version": 3
   },
   "file_extension": ".py",
   "mimetype": "text/x-python",
   "name": "python",
   "nbconvert_exporter": "python",
   "pygments_lexer": "ipython3",
   "version": "3.7.7"
  },
  "latex_envs": {
   "LaTeX_envs_menu_present": true,
   "autoclose": false,
   "autocomplete": true,
   "bibliofile": "biblio.bib",
   "cite_by": "apalike",
   "current_citInitial": 1,
   "eqLabelWithNumbers": true,
   "eqNumInitial": 1,
   "hotkeys": {
    "equation": "Ctrl-E",
    "itemize": "Ctrl-I"
   },
   "labels_anchors": false,
   "latex_user_defs": false,
   "report_style_numbering": false,
   "user_envs_cfg": false
  },
  "varInspector": {
   "cols": {
    "lenName": 16,
    "lenType": 16,
    "lenVar": 40
   },
   "kernels_config": {
    "python": {
     "delete_cmd_postfix": "",
     "delete_cmd_prefix": "del ",
     "library": "var_list.py",
     "varRefreshCmd": "print(var_dic_list())"
    },
    "r": {
     "delete_cmd_postfix": ") ",
     "delete_cmd_prefix": "rm(",
     "library": "var_list.r",
     "varRefreshCmd": "cat(var_dic_list()) "
    }
   },
   "types_to_exclude": [
    "module",
    "function",
    "builtin_function_or_method",
    "instance",
    "_Feature"
   ],
   "window_display": false
  }
 },
 "nbformat": 4,
 "nbformat_minor": 4
}
